{
 "cells": [
  {
   "cell_type": "code",
   "execution_count": 6,
   "id": "445b59bf-2b55-44cc-8a2d-daa2b840b0b8",
   "metadata": {},
   "outputs": [],
   "source": [
    "#I just had to combine these two data sets \n",
    "#cuz they were separate\n",
    "import pandas as pd\n",
    "favor_df = pd.read_csv('favor.csv')\n",
    "oppose_df = pd.read_csv('oppose.csv')"
   ]
  },
  {
   "cell_type": "code",
   "execution_count": 7,
   "id": "8d6c237b-4e6c-4bbe-bae1-d6ee6ca5d036",
   "metadata": {},
   "outputs": [],
   "source": [
    "#just taking out the data I want\n",
    "favor_data = favor_df[['year', 'percent']].copy()\n",
    "oppose_data = oppose_df[['year', 'percent']].copy()"
   ]
  },
  {
   "cell_type": "code",
   "execution_count": 8,
   "id": "08e1039c-3009-4384-967c-a60fe77fa4b3",
   "metadata": {},
   "outputs": [],
   "source": [
    "\n",
    "favor_data.columns = ['Year', 'Favor']\n",
    "oppose_data.columns = ['Year', 'Oppose']"
   ]
  },
  {
   "cell_type": "code",
   "execution_count": 9,
   "id": "d0db6917-243d-41b4-8fa5-fa386b601265",
   "metadata": {},
   "outputs": [],
   "source": [
    "#putting it all together\n",
    "merged_df = pd.merge(favor_data, oppose_data, on='Year', how='outer')"
   ]
  },
  {
   "cell_type": "code",
   "execution_count": 10,
   "id": "226707bd-22a4-41e9-93ee-a1ffa1b1ec44",
   "metadata": {},
   "outputs": [],
   "source": [
    "merged_df = merged_df.sort_values('Year')"
   ]
  },
  {
   "cell_type": "code",
   "execution_count": 11,
   "id": "6aaf4062-8c4c-408f-bf70-cb2a04d99dab",
   "metadata": {},
   "outputs": [],
   "source": [
    "merged_df = merged_df.round(1)"
   ]
  },
  {
   "cell_type": "code",
   "execution_count": 12,
   "id": "45bf5949-80c2-4a56-a8c2-e3bb88b5e468",
   "metadata": {},
   "outputs": [],
   "source": [
    "merged_df.to_csv('death_penalty_merged.csv', index=False)"
   ]
  },
  {
   "cell_type": "code",
   "execution_count": null,
   "id": "8ee74989-e37a-4c31-b5dd-cd411f9754fd",
   "metadata": {},
   "outputs": [],
   "source": []
  }
 ],
 "metadata": {
  "kernelspec": {
   "display_name": "Python 3 (ipykernel)",
   "language": "python",
   "name": "python3"
  },
  "language_info": {
   "codemirror_mode": {
    "name": "ipython",
    "version": 3
   },
   "file_extension": ".py",
   "mimetype": "text/x-python",
   "name": "python",
   "nbconvert_exporter": "python",
   "pygments_lexer": "ipython3",
   "version": "3.11.8"
  }
 },
 "nbformat": 4,
 "nbformat_minor": 5
}
